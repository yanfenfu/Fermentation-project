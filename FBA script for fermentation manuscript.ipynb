{
 "cells": [
  {
   "cell_type": "markdown",
   "metadata": {},
   "source": [
    "# **Oxygen limited condition**\n",
    "## **flux balance analysis (FBA) with CobraPy (version 0.4.1) **\n",
    "\n",
    "*Author: Yanfen Fu (fyf@uw.edu)*\n",
    "\n",
    "### Four cases has been simulated based on bioreactor data for WT(FM86,FM87) and  ΔCyt aa3 (FM88, FM90)\n",
    "    - case 1: WT without additional constraints, bounded with specific methane uptake rate from FM86 and FM87\n",
    "    - case 2: WT with additional constraint of specific oxygen uptake rate from FM86 and FM87\n",
    "    - case 3: WT with secreted products (formate and acetate) rate constraint\n",
    "    - case 4:  ΔCyt aa3 mutant with specific uptake rate of oxygen and methane, with additional constraints of   secreted products.\n",
    "    - case 5: ΔCyt aa3 with 13C result\n",
    "\n",
    "\n"
   ]
  },
  {
   "cell_type": "markdown",
   "metadata": {},
   "source": [
    "#### 1.1 case 1a, specific methane uptake = 2.7 mmol/gCDW.hr from FM86  "
   ]
  },
  {
   "cell_type": "code",
   "execution_count": 2,
   "metadata": {
    "collapsed": false
   },
   "outputs": [
    {
     "name": "stdout",
     "output_type": "stream",
     "text": [
      "IN FLUXES                     OUT FLUXES                    OBJECTIVES          \n",
      "o2_e       -3.03              h2o_e      2.55               BIOMASS_M5GB1      0.040\n",
      "ch4_e      -2.70              co2_c      1.13                                   \n",
      "no3_e      -0.29              h_c        0.56                                   \n",
      "pi_e       -0.05              ac_c       0.00                                   \n",
      "so4_e      -0.01              glc_a_c    0.00                                   \n",
      "mg2_e      -0.00                                                                \n",
      "gal_bD_c   -0.00                                                                \n",
      "ca2_e      -0.00                                                                \n",
      "cu2_e      -0.00                                                                \n",
      "fe2_e      -0.00                                                                \n",
      "0.0\n"
     ]
    }
   ],
   "source": [
    "# case 1a (FM86)\n",
    "import cobra\n",
    "model = cobra.io.read_sbml_model('fermentation_case_study/5GB1_base_fermentation.xml')\n",
    "model.optimize()\n",
    "model.summary()\n",
    "print model.reactions.EX_for_c.x"
   ]
  },
  {
   "cell_type": "markdown",
   "metadata": {},
   "source": [
    "#### 1.2 case 1b, specific methane uptake = 2.9 mmol/gCDW.hr from FM87"
   ]
  },
  {
   "cell_type": "code",
   "execution_count": 3,
   "metadata": {
    "collapsed": false
   },
   "outputs": [
    {
     "name": "stdout",
     "output_type": "stream",
     "text": [
      "IN FLUXES                     OUT FLUXES                    OBJECTIVES          \n",
      "o2_e       -3.26              h2o_e      2.74               BIOMASS_M5GB1      0.043\n",
      "ch4_e      -2.90              co2_c      1.21                                   \n",
      "no3_e      -0.31              h_c        0.60                                   \n",
      "pi_e       -0.05              ac_c       0.00                                   \n",
      "so4_e      -0.01              glc_a_c    0.00                                   \n",
      "mg2_e      -0.00                                                                \n",
      "gal_bD_c   -0.00                                                                \n",
      "ca2_e      -0.00                                                                \n",
      "cu2_e      -0.00                                                                \n",
      "fe2_e      -0.00                                                                \n",
      "0.0\n"
     ]
    }
   ],
   "source": [
    "# case 1b (FM87)\n",
    "import cobra\n",
    "model = cobra.io.read_sbml_model('fermentation_case_study/5GB1_base_fermentation.xml')\n",
    "model.reactions.EX_ch4_e.lower_bound = -2.9\n",
    "model.reactions.EX_ch4_e.upper_bound = -2.9\n",
    "model.optimize()\n",
    "model.summary()\n",
    "print model.reactions.EX_for_c.x"
   ]
  },
  {
   "cell_type": "markdown",
   "metadata": {},
   "source": [
    "#### 2.1 case 2a, specific oxygen uptake = 2.9 mmol/gCDW.hr from FM86  "
   ]
  },
  {
   "cell_type": "code",
   "execution_count": 5,
   "metadata": {
    "collapsed": false
   },
   "outputs": [
    {
     "name": "stdout",
     "output_type": "stream",
     "text": [
      "IN FLUXES                     OUT FLUXES                    OBJECTIVES          \n",
      "o2_e       -2.90              h2o_e      2.83               BIOMASS_M5GB1      0.034\n",
      "ch4_e      -2.70              co2_c      0.88                                   \n",
      "no3_e      -0.25              h_c        0.24                                   \n",
      "pi_e       -0.04              ac_c       0.24                                   \n",
      "so4_e      -0.01              glc_a_c    0.00                                   \n",
      "mg2_e      -0.00                                                                \n",
      "phe__l_c   -0.00                                                                \n",
      "ca2_e      -0.00                                                                \n",
      "cu2_e      -0.00                                                                \n",
      "fe2_e      -0.00                                                                \n"
     ]
    }
   ],
   "source": [
    "import cobra\n",
    "model = cobra.io.read_sbml_model('fermentation_case_study/5GB1_base_fermentation.xml')\n",
    "model.reactions.EX_o2_e.lower_bound = -2.9\n",
    "model.reactions.EX_o2_e.upper_bound = -2.9\n",
    "\n",
    "model.optimize()\n",
    "model.summary()"
   ]
  },
  {
   "cell_type": "markdown",
   "metadata": {},
   "source": [
    "#### 2.2 case 2b, specific methane uptake = 3.1 mmol/gCDW.hr from FM87"
   ]
  },
  {
   "cell_type": "code",
   "execution_count": 6,
   "metadata": {
    "collapsed": false
   },
   "outputs": [
    {
     "name": "stdout",
     "output_type": "stream",
     "text": [
      "IN FLUXES                     OUT FLUXES                    OBJECTIVES          \n",
      "o2_e       -3.10              h2o_e      3.07               BIOMASS_M5GB1      0.036\n",
      "ch4_e      -2.90              co2_c      0.92                                   \n",
      "no3_e      -0.27              ac_c       0.28                                   \n",
      "pi_e       -0.04              h_c        0.22                                   \n",
      "so4_e      -0.01              glc_a_c    0.00                                   \n",
      "mg2_e      -0.00                                                                \n",
      "met__l_c   -0.00                                                                \n",
      "ca2_e      -0.00                                                                \n",
      "cu2_e      -0.00                                                                \n",
      "fe2_e      -0.00                                                                \n"
     ]
    }
   ],
   "source": [
    "import cobra\n",
    "model = cobra.io.read_sbml_model('fermentation_case_study/5GB1_base_fermentation.xml')\n",
    "model.reactions.EX_ch4_e.lower_bound = -2.9\n",
    "model.reactions.EX_ch4_e.upper_bound = -2.9\n",
    "model.reactions.EX_o2_e.lower_bound = -3.1\n",
    "model.reactions.EX_o2_e.upper_bound = -3.1\n",
    "\n",
    "model.optimize()\n",
    "model.summary()"
   ]
  },
  {
   "cell_type": "markdown",
   "metadata": {},
   "source": [
    "#### 3.1 case 3a, secreated products formate and acetate are constrained with experimental result (FM86) using python script create ratio.py, the input model '5GB1_base_fermentation_case3a.xml' -> Might need to trouble shoot '5GB1_base_fermentation_case3.xml' doesn't lead to an optimum result\n",
    "\n",
    "\n"
   ]
  },
  {
   "cell_type": "code",
   "execution_count": 8,
   "metadata": {
    "collapsed": false
   },
   "outputs": [
    {
     "name": "stdout",
     "output_type": "stream",
     "text": [
      "IN FLUXES                     OUT FLUXES                    OBJECTIVES          \n",
      "o2_e       -2.90              h2o_e      2.37               BIOMASS_M5GB1      0.033\n",
      "ch4_e      -2.70              co2_c      1.40                                   \n",
      "no3_e      -0.24              h2_c       1.12                                   \n",
      "h_c        -0.13              ac_c       0.00                                   \n",
      "pi_e       -0.04              glc_a_c    0.00                                   \n",
      "so4_e      -0.00                                                                \n",
      "mg2_e      -0.00                                                                \n",
      "ile__l_c   -0.00                                                                \n",
      "ca2_e      -0.00                                                                \n",
      "cu2_e      -0.00                                                                \n",
      "fe2_e      -0.00                                                                \n",
      "0.0156724377449\n"
     ]
    }
   ],
   "source": [
    "# case 3a FM86\n",
    "import cobra\n",
    "model = cobra.io.read_sbml_model('fermentation_case_study/5GB1_base_fermentation_case3a.xml')\n",
    "model.reactions.EX_ac_c.lower_bound=0.001\n",
    "model.reactions.EX_ac_c.upper_bound=0.002\n",
    "model.reactions.EX_o2_e.lower_bound = -2.9\n",
    "model.reactions.EX_o2_e.upper_bound = -2.9\n",
    "model.optimize()\n",
    "model.summary()"
   ]
  },
  {
   "cell_type": "markdown",
   "metadata": {},
   "source": [
    "#### 3.2 case 3b, secreated products formate and acetate are constrained with experimental result (FM87) using python script create ratio.py, the input model '5GB1_base_fermentation_case3r2.xml\n"
   ]
  },
  {
   "cell_type": "code",
   "execution_count": 10,
   "metadata": {
    "collapsed": false
   },
   "outputs": [
    {
     "name": "stdout",
     "output_type": "stream",
     "text": [
      "IN FLUXES                     OUT FLUXES                    OBJECTIVES          \n",
      "o2_e       -3.10              h2o_e      2.53               BIOMASS_M5GB1      0.034\n",
      "ch4_e      -2.90              co2_c      1.55                                   \n",
      "no3_e      -0.25              h2_c       1.34                                   \n",
      "h_c        -0.23              glc_a_c    0.00                                   \n",
      "pi_e       -0.04                                                                \n",
      "so4_e      -0.01                                                                \n",
      "mg2_e      -0.00                                                                \n",
      "glu__l_c   -0.00                                                                \n",
      "ca2_e      -0.00                                                                \n",
      "cu2_e      -0.00                                                                \n",
      "fe2_e      -0.00                                                                \n",
      "0.00696628272135\n",
      "0.00133834988243\n"
     ]
    }
   ],
   "source": [
    "# case 3b FM87\n",
    "import cobra\n",
    "model = cobra.io.read_sbml_model('fermentation_case_study/5GB1_base_fermentation_case3r2.xml')\n",
    "model.reactions.EX_o2_e.lower_bound = -3.1\n",
    "model.reactions.EX_o2_e.upper_bound = -3.1\n",
    "model.reactions.EX_ch4_e.lower_bound = -2.9\n",
    "model.reactions.EX_ch4_e.upper_bound = -2.9\n",
    "model.optimize()\n",
    "model.summary()\n",
    "print model.reactions.EX_for_c.x\n",
    "print model.reactions.EX_ac_c.x"
   ]
  },
  {
   "cell_type": "markdown",
   "metadata": {},
   "source": [
    "#### 4.1 case 4a, ΔCyt aa3 mutant, secreated products formate and acetate are constrained with experimental result (FM88) using python script create ratio.py, the input model '5GB1_base_fermentation_aa3_case3.xml'\n"
   ]
  },
  {
   "cell_type": "code",
   "execution_count": 12,
   "metadata": {
    "collapsed": false
   },
   "outputs": [
    {
     "name": "stdout",
     "output_type": "stream",
     "text": [
      "IN FLUXES                     OUT FLUXES                    OBJECTIVES          \n",
      "o2_e       -3.90              h2o_e      3.21               BIOMASS_M5GB1      0.043\n",
      "ch4_e      -3.60              co2_c      1.85                                   \n",
      "no3_e      -0.31              h2_c       1.45                                   \n",
      "h_c        -0.15              glc_a_c    0.00                                   \n",
      "pi_e       -0.05                                                                \n",
      "so4_e      -0.01                                                                \n",
      "mg2_e      -0.00                                                                \n",
      "ile__l_c   -0.00                                                                \n",
      "cu2_e      -0.00                                                                \n",
      "ca2_e      -0.00                                                                \n",
      "fe2_e      -0.00                                                                \n"
     ]
    }
   ],
   "source": [
    "# case 4a. ΔCyt aa3 model with bioreactor data FM88\n",
    "# FM88 run, Oxygen uptake rate = 3.9 mmol/ gCDW.hr Methane uptake rate = 3.6 mmol/gCDW.hr\n",
    "import cobra\n",
    "model = cobra.io.read_sbml_model('fermentation_case_study/5GB1_base_fermentation_aa3_case3.xml')\n",
    "## aa3 complex flux bounded to 0\n",
    "model.reactions.CyAA3_CYTC.upper_bound = 0\n",
    "model.reactions.CyAA3_CYTC.lower_bound = 0\n",
    "model.reactions.CyAA3_UQ.upper_bound = 0\n",
    "model.reactions.CyAA3_UQ.lower_bound = 0\n",
    "model.reactions.EX_o2_e.lower_bound = -3.9\n",
    "model.reactions.EX_o2_e.upper_bound = -3.9\n",
    "model.reactions.EX_ch4_e.lower_bound = -3.6\n",
    "model.reactions.EX_ch4_e.upper_bound = -3.6\n",
    "model.optimize()\n",
    "model.summary()\n"
   ]
  },
  {
   "cell_type": "markdown",
   "metadata": {},
   "source": [
    "#### 4.2 case 4b, ΔCyt aa3 mutant, secreated products formate and acetate are constrained with experimental result (FM90) using python script create ratio.py, the input model '5GB1_base_fermentation_aa3_case3r2.xml'"
   ]
  },
  {
   "cell_type": "code",
   "execution_count": 15,
   "metadata": {
    "collapsed": false
   },
   "outputs": [
    {
     "name": "stdout",
     "output_type": "stream",
     "text": [
      "IN FLUXES                     OUT FLUXES                    OBJECTIVES          \n",
      "o2_e      -4.50               h2o_e      3.61               BIOMASS_M5GB1      0.047\n",
      "ch4_e     -4.20               co2_c      2.20                                   \n",
      "no3_e     -0.34               h2_c       2.08                                   \n",
      "h_c       -0.29               glc_a_c    0.00                                   \n",
      "pi_e      -0.05                                                                 \n",
      "so4_e     -0.01                                                                 \n",
      "mg2_e     -0.00                                                                 \n",
      "glc_a_c   -0.00                                                                 \n",
      "ca2_e     -0.00                                                                 \n",
      "cu2_e     -0.00                                                                 \n",
      "fe2_e     -0.00                                                                 \n"
     ]
    }
   ],
   "source": [
    "# case 4a. ΔCyt aa3 model with bioreactor data FM88\n",
    "# FM88 run, Oxygen uptake rate = 4.5 mmol/ gCDW.hr Methane uptake rate = 4.2 mmol/gCDW.hr\n",
    "import cobra\n",
    "model = cobra.io.read_sbml_model('fermentation_case_study/5GB1_base_fermentation_aa3_case3r2.xml')\n",
    "## aa3 complex flux bounded to 0\n",
    "model.reactions.CyAA3_CYTC.upper_bound = 0\n",
    "model.reactions.CyAA3_CYTC.lower_bound = 0\n",
    "model.reactions.CyAA3_UQ.upper_bound = 0\n",
    "model.reactions.CyAA3_UQ.lower_bound = 0\n",
    "model.reactions.EX_o2_e.lower_bound = -4.5\n",
    "model.reactions.EX_o2_e.upper_bound = -4.5\n",
    "model.reactions.EX_ch4_e.lower_bound = -4.2\n",
    "model.reactions.EX_ch4_e.upper_bound = -4.2\n",
    "model.optimize()\n",
    "model.summary()"
   ]
  },
  {
   "cell_type": "markdown",
   "metadata": {
    "collapsed": true
   },
   "source": [
    "### The following table summarized case 1, 2, 3,4 simulation results\n",
    "| Cases | Simulated growth rate | Strain |\n",
    "|----- -|-----------------------|--------|\n",
    "|   1a  | 0.04                  |   WT   | \n",
    "|   1b  | 0.043                 |   WT   |\n",
    "|   2a  | 0.034                 |   WT   |\n",
    "|   2b  | 0.036                 |   WT   |\n",
    "|   3a  | 0.033                 |   WT   |\n",
    "|   3b  | 0.034                 |   WT   |\n",
    "|   4a  | 0.043                 |ΔCyt aa3   |\n",
    "|   4b  | 0.047                 |ΔCyt aa3   |\n",
    "\n"
   ]
  }
 ],
 "metadata": {
  "kernelspec": {
   "display_name": "Python 2",
   "language": "python",
   "name": "python2"
  },
  "language_info": {
   "codemirror_mode": {
    "name": "ipython",
    "version": 2
   },
   "file_extension": ".py",
   "mimetype": "text/x-python",
   "name": "python",
   "nbconvert_exporter": "python",
   "pygments_lexer": "ipython2",
   "version": "2.7.11"
  }
 },
 "nbformat": 4,
 "nbformat_minor": 0
}
